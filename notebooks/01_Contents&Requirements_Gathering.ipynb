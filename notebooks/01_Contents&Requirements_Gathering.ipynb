{
 "cells": [
  {
   "cell_type": "markdown",
   "id": "23a601ad",
   "metadata": {},
   "source": [
    "# 01 - Contents & Requirements Gathering"
   ]
  },
  {
   "cell_type": "markdown",
   "id": "b6cf225e",
   "metadata": {},
   "source": [
    "**Task:** Build a model able to warn users of malicious websites before they fall victim to malicious content, phishing attempts etc.\n",
    "\n",
    "**Requirements:**\n",
    "\n",
    "- Must be able to make predictions based on just a URL.\n",
    "- Be aware of imbalanced data.\n",
    "\n",
    "**Notebooks:**\n",
    "\n",
    "1. Feature Engineering & Collection [02_Feature Engineering & Collection](./02_Feature_Engineering&Collectio)\n",
    "2. EDA - [02_Exploratory_Data_Analysis](./02_Exploratory_Data_Analysis.ipynb)\n",
    "5. Model Creation (OFFLINE) - [03_Offline_Model_Creation](./03_Model_Creation.ipynb)\n",
    "6. Model Hyperparameter\n",
    "7. Model Deployment\n",
    "8. Retraining Approaches"
   ]
  },
  {
   "cell_type": "code",
   "execution_count": null,
   "id": "3e81a195",
   "metadata": {},
   "outputs": [],
   "source": []
  }
 ],
 "metadata": {
  "kernelspec": {
   "display_name": "Python 3 (ipykernel)",
   "language": "python",
   "name": "python3"
  },
  "language_info": {
   "codemirror_mode": {
    "name": "ipython",
    "version": 3
   },
   "file_extension": ".py",
   "mimetype": "text/x-python",
   "name": "python",
   "nbconvert_exporter": "python",
   "pygments_lexer": "ipython3",
   "version": "3.8.5"
  }
 },
 "nbformat": 4,
 "nbformat_minor": 5
}
