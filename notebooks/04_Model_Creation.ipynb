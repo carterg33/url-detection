{
 "cells": [
  {
   "cell_type": "markdown",
   "id": "7281fc09",
   "metadata": {},
   "source": [
    "# Offline Model Creation"
   ]
  },
  {
   "cell_type": "code",
   "execution_count": 19,
   "id": "b6a29baa",
   "metadata": {},
   "outputs": [],
   "source": [
    "import numpy as np\n",
    "import pandas as pd\n",
    "import mlflow"
   ]
  },
  {
   "cell_type": "code",
   "execution_count": 3,
   "id": "77b10bfd",
   "metadata": {},
   "outputs": [
    {
     "name": "stderr",
     "output_type": "stream",
     "text": [
      "C:\\Users\\Carter\\miniconda3\\lib\\site-packages\\xgboost\\compat.py:36: FutureWarning: pandas.Int64Index is deprecated and will be removed from pandas in a future version. Use pandas.Index with the appropriate dtype instead.\n",
      "  from pandas import MultiIndex, Int64Index\n"
     ]
    }
   ],
   "source": [
    "from xgboost import XGBClassifier\n",
    "from func import URLFeatureGenerator"
   ]
  },
  {
   "cell_type": "markdown",
   "id": "a6317166",
   "metadata": {},
   "source": [
    "## Read in Data"
   ]
  },
  {
   "cell_type": "code",
   "execution_count": 4,
   "id": "4c5badfa",
   "metadata": {},
   "outputs": [],
   "source": [
    "df = pd.read_csv('../data/processed/features.csv')"
   ]
  },
  {
   "cell_type": "code",
   "execution_count": 5,
   "id": "5b812927",
   "metadata": {},
   "outputs": [
    {
     "data": {
      "text/html": [
       "<div>\n",
       "<style scoped>\n",
       "    .dataframe tbody tr th:only-of-type {\n",
       "        vertical-align: middle;\n",
       "    }\n",
       "\n",
       "    .dataframe tbody tr th {\n",
       "        vertical-align: top;\n",
       "    }\n",
       "\n",
       "    .dataframe thead th {\n",
       "        text-align: right;\n",
       "    }\n",
       "</style>\n",
       "<table border=\"1\" class=\"dataframe\">\n",
       "  <thead>\n",
       "    <tr style=\"text-align: right;\">\n",
       "      <th></th>\n",
       "      <th>url</th>\n",
       "      <th>https</th>\n",
       "      <th>url_length</th>\n",
       "      <th>url_path_length</th>\n",
       "      <th>url_host_length</th>\n",
       "      <th>url_host_is_ip</th>\n",
       "      <th>url_has_port_in_string</th>\n",
       "      <th>number_of_digits</th>\n",
       "      <th>number_of_parameters</th>\n",
       "      <th>number_of_fragments</th>\n",
       "      <th>is_encoded</th>\n",
       "      <th>num_encoded_char</th>\n",
       "      <th>url_string_entropy</th>\n",
       "      <th>number_of_subdirectories</th>\n",
       "      <th>number_of_periods</th>\n",
       "      <th>tld</th>\n",
       "      <th>geo_loc</th>\n",
       "      <th>js_len</th>\n",
       "      <th>who_is</th>\n",
       "      <th>label</th>\n",
       "    </tr>\n",
       "  </thead>\n",
       "  <tbody>\n",
       "    <tr>\n",
       "      <th>0</th>\n",
       "      <td>http://www.physics.smu.edu/web/</td>\n",
       "      <td>True</td>\n",
       "      <td>31</td>\n",
       "      <td>5</td>\n",
       "      <td>19</td>\n",
       "      <td>False</td>\n",
       "      <td>False</td>\n",
       "      <td>0</td>\n",
       "      <td>0</td>\n",
       "      <td>0</td>\n",
       "      <td>False</td>\n",
       "      <td>0</td>\n",
       "      <td>3.808720</td>\n",
       "      <td>3</td>\n",
       "      <td>3</td>\n",
       "      <td>edu</td>\n",
       "      <td>Germany</td>\n",
       "      <td>50.0</td>\n",
       "      <td>True</td>\n",
       "      <td>0</td>\n",
       "    </tr>\n",
       "    <tr>\n",
       "      <th>1</th>\n",
       "      <td>http://www.gershlaw.com</td>\n",
       "      <td>True</td>\n",
       "      <td>23</td>\n",
       "      <td>0</td>\n",
       "      <td>16</td>\n",
       "      <td>False</td>\n",
       "      <td>False</td>\n",
       "      <td>0</td>\n",
       "      <td>0</td>\n",
       "      <td>0</td>\n",
       "      <td>False</td>\n",
       "      <td>0</td>\n",
       "      <td>3.827910</td>\n",
       "      <td>1</td>\n",
       "      <td>2</td>\n",
       "      <td>com</td>\n",
       "      <td>Romania</td>\n",
       "      <td>84.0</td>\n",
       "      <td>False</td>\n",
       "      <td>0</td>\n",
       "    </tr>\n",
       "    <tr>\n",
       "      <th>2</th>\n",
       "      <td>http://www.defenselink.mil/mtom/</td>\n",
       "      <td>True</td>\n",
       "      <td>32</td>\n",
       "      <td>6</td>\n",
       "      <td>19</td>\n",
       "      <td>False</td>\n",
       "      <td>False</td>\n",
       "      <td>0</td>\n",
       "      <td>0</td>\n",
       "      <td>0</td>\n",
       "      <td>False</td>\n",
       "      <td>0</td>\n",
       "      <td>3.905639</td>\n",
       "      <td>3</td>\n",
       "      <td>2</td>\n",
       "      <td>mil</td>\n",
       "      <td>South Korea</td>\n",
       "      <td>0.0</td>\n",
       "      <td>True</td>\n",
       "      <td>0</td>\n",
       "    </tr>\n",
       "    <tr>\n",
       "      <th>3</th>\n",
       "      <td>http://www.superetrader.co.uk/</td>\n",
       "      <td>True</td>\n",
       "      <td>30</td>\n",
       "      <td>1</td>\n",
       "      <td>22</td>\n",
       "      <td>False</td>\n",
       "      <td>False</td>\n",
       "      <td>0</td>\n",
       "      <td>0</td>\n",
       "      <td>0</td>\n",
       "      <td>False</td>\n",
       "      <td>0</td>\n",
       "      <td>3.822580</td>\n",
       "      <td>2</td>\n",
       "      <td>3</td>\n",
       "      <td>co.uk</td>\n",
       "      <td>Japan</td>\n",
       "      <td>88.0</td>\n",
       "      <td>True</td>\n",
       "      <td>0</td>\n",
       "    </tr>\n",
       "    <tr>\n",
       "      <th>4</th>\n",
       "      <td>http://salonequipmentintl.com/</td>\n",
       "      <td>True</td>\n",
       "      <td>30</td>\n",
       "      <td>1</td>\n",
       "      <td>22</td>\n",
       "      <td>False</td>\n",
       "      <td>False</td>\n",
       "      <td>0</td>\n",
       "      <td>0</td>\n",
       "      <td>0</td>\n",
       "      <td>False</td>\n",
       "      <td>0</td>\n",
       "      <td>3.923231</td>\n",
       "      <td>2</td>\n",
       "      <td>1</td>\n",
       "      <td>com</td>\n",
       "      <td>Japan</td>\n",
       "      <td>94.5</td>\n",
       "      <td>True</td>\n",
       "      <td>0</td>\n",
       "    </tr>\n",
       "  </tbody>\n",
       "</table>\n",
       "</div>"
      ],
      "text/plain": [
       "                                url  https  url_length  url_path_length  \\\n",
       "0   http://www.physics.smu.edu/web/   True          31                5   \n",
       "1           http://www.gershlaw.com   True          23                0   \n",
       "2  http://www.defenselink.mil/mtom/   True          32                6   \n",
       "3    http://www.superetrader.co.uk/   True          30                1   \n",
       "4    http://salonequipmentintl.com/   True          30                1   \n",
       "\n",
       "   url_host_length  url_host_is_ip  url_has_port_in_string  number_of_digits  \\\n",
       "0               19           False                   False                 0   \n",
       "1               16           False                   False                 0   \n",
       "2               19           False                   False                 0   \n",
       "3               22           False                   False                 0   \n",
       "4               22           False                   False                 0   \n",
       "\n",
       "   number_of_parameters  number_of_fragments  is_encoded  num_encoded_char  \\\n",
       "0                     0                    0       False                 0   \n",
       "1                     0                    0       False                 0   \n",
       "2                     0                    0       False                 0   \n",
       "3                     0                    0       False                 0   \n",
       "4                     0                    0       False                 0   \n",
       "\n",
       "   url_string_entropy  number_of_subdirectories  number_of_periods    tld  \\\n",
       "0            3.808720                         3                  3    edu   \n",
       "1            3.827910                         1                  2    com   \n",
       "2            3.905639                         3                  2    mil   \n",
       "3            3.822580                         2                  3  co.uk   \n",
       "4            3.923231                         2                  1    com   \n",
       "\n",
       "       geo_loc  js_len  who_is  label  \n",
       "0      Germany    50.0    True      0  \n",
       "1      Romania    84.0   False      0  \n",
       "2  South Korea     0.0    True      0  \n",
       "3        Japan    88.0    True      0  \n",
       "4        Japan    94.5    True      0  "
      ]
     },
     "execution_count": 5,
     "metadata": {},
     "output_type": "execute_result"
    }
   ],
   "source": [
    "df.head()"
   ]
  },
  {
   "cell_type": "code",
   "execution_count": 6,
   "id": "b431eeb7",
   "metadata": {},
   "outputs": [],
   "source": [
    "X = df.drop(['label', 'url', 'geo_loc', 'tld'], axis=1)\n",
    "y = df['label']"
   ]
  },
  {
   "cell_type": "code",
   "execution_count": 7,
   "id": "29ba329c",
   "metadata": {},
   "outputs": [],
   "source": [
    "from sklearn.model_selection import train_test_split\n",
    "\n",
    "X_train, X_test, y_train, y_test = train_test_split(X, y, test_size=0.3)"
   ]
  },
  {
   "cell_type": "markdown",
   "id": "438fa15c",
   "metadata": {},
   "source": [
    "## Creating Pipeline"
   ]
  },
  {
   "cell_type": "markdown",
   "id": "d9953b90",
   "metadata": {},
   "source": [
    "### Preprocessing"
   ]
  },
  {
   "cell_type": "markdown",
   "id": "dd0e912d",
   "metadata": {},
   "source": [
    "Create numerical pipeline:"
   ]
  },
  {
   "cell_type": "code",
   "execution_count": 8,
   "id": "a80e9d3a",
   "metadata": {},
   "outputs": [],
   "source": [
    "num_cols = X.select_dtypes(include=np.number).columns.tolist()"
   ]
  },
  {
   "cell_type": "code",
   "execution_count": 9,
   "id": "1b0163ca",
   "metadata": {},
   "outputs": [],
   "source": [
    "from imblearn.pipeline import Pipeline \n",
    "from sklearn.preprocessing import StandardScaler\n",
    "from sklearn.impute import SimpleImputer\n",
    "\n",
    "\n",
    "num_pipeline = Pipeline([\n",
    "        ('imputer', SimpleImputer(strategy=\"mean\")),\n",
    "        ('std_scaler', StandardScaler())\n",
    "    ])"
   ]
  },
  {
   "cell_type": "markdown",
   "id": "938cb574",
   "metadata": {},
   "source": [
    "Create categorical pipeline:"
   ]
  },
  {
   "cell_type": "code",
   "execution_count": 10,
   "id": "14182151",
   "metadata": {},
   "outputs": [],
   "source": [
    "cat_cols = X.select_dtypes(include=object).columns.tolist()"
   ]
  },
  {
   "cell_type": "code",
   "execution_count": 11,
   "id": "ef98a484",
   "metadata": {},
   "outputs": [],
   "source": [
    "from sklearn.preprocessing import OneHotEncoder\n",
    "\n",
    "\n",
    "cat_pipeline = Pipeline([\n",
    "        ('enc', OneHotEncoder())\n",
    "])"
   ]
  },
  {
   "cell_type": "markdown",
   "id": "5b7ed0b1",
   "metadata": {},
   "source": [
    "Combine for full preprocessing pipeline:"
   ]
  },
  {
   "cell_type": "code",
   "execution_count": 12,
   "id": "83aefbc0",
   "metadata": {},
   "outputs": [],
   "source": [
    "from sklearn.compose import ColumnTransformer\n",
    "\n",
    "pre_pipeline = ColumnTransformer([\n",
    "        (\"num\", num_pipeline, num_cols),\n",
    "        (\"cat\", cat_pipeline, cat_cols),\n",
    "    ], remainder = 'passthrough')"
   ]
  },
  {
   "cell_type": "markdown",
   "id": "a4f5c6dc",
   "metadata": {},
   "source": [
    "### Modelling"
   ]
  },
  {
   "cell_type": "code",
   "execution_count": 13,
   "id": "98dfffdd",
   "metadata": {},
   "outputs": [],
   "source": [
    "from imblearn.under_sampling import RandomUnderSampler\n",
    "sampler = RandomUnderSampler(sampling_strategy = 0.3)"
   ]
  },
  {
   "cell_type": "code",
   "execution_count": 14,
   "id": "5a9b48a9",
   "metadata": {},
   "outputs": [],
   "source": [
    "xgb = XGBClassifier(use_label_encoder = False, eval_metric='mlogloss')\n",
    "\n",
    "pipe = Pipeline([\n",
    "    ('pre', pre_pipeline),\n",
    "    ('sampler', sampler),\n",
    "    ('xgb', xgb)\n",
    "])"
   ]
  },
  {
   "cell_type": "code",
   "execution_count": 15,
   "id": "861fd2da",
   "metadata": {},
   "outputs": [],
   "source": [
    "param_grid = {\n",
    "    'xgb__n_estimators': [5, 10, 50], \n",
    "    'xgb__gamma' : [0, 0.2, 0.5]\n",
    "}"
   ]
  },
  {
   "cell_type": "code",
   "execution_count": 46,
   "id": "d3e81cef",
   "metadata": {},
   "outputs": [],
   "source": [
    "from sklearn.model_selection import GridSearchCV\n",
    "\n",
    "search = GridSearchCV(pipe, param_grid, scoring = 'f1', cv = 3)"
   ]
  },
  {
   "cell_type": "code",
   "execution_count": 47,
   "id": "6ad5205e",
   "metadata": {},
   "outputs": [
    {
     "data": {
      "text/plain": [
       "GridSearchCV(cv=3,\n",
       "             estimator=Pipeline(steps=[('pre',\n",
       "                                        ColumnTransformer(remainder='passthrough',\n",
       "                                                          transformers=[('num',\n",
       "                                                                         Pipeline(steps=[('imputer',\n",
       "                                                                                          SimpleImputer()),\n",
       "                                                                                         ('std_scaler',\n",
       "                                                                                          StandardScaler())]),\n",
       "                                                                         ['url_length',\n",
       "                                                                          'url_path_length',\n",
       "                                                                          'url_host_length',\n",
       "                                                                          'number_of_digits',\n",
       "                                                                          'number_of_parameters',\n",
       "                                                                          'number_of_fragments',\n",
       "                                                                          'num_encoded_char',\n",
       "                                                                          'url_string_entropy',\n",
       "                                                                          'num...\n",
       "                                                      missing=nan,\n",
       "                                                      monotone_constraints=None,\n",
       "                                                      n_estimators=100,\n",
       "                                                      n_jobs=None,\n",
       "                                                      num_parallel_tree=None,\n",
       "                                                      predictor=None,\n",
       "                                                      random_state=None,\n",
       "                                                      reg_alpha=None,\n",
       "                                                      reg_lambda=None,\n",
       "                                                      scale_pos_weight=None,\n",
       "                                                      subsample=None,\n",
       "                                                      tree_method=None,\n",
       "                                                      use_label_encoder=False,\n",
       "                                                      validate_parameters=None,\n",
       "                                                      verbosity=None))]),\n",
       "             param_grid={'xgb__gamma': [0, 0.2, 0.5],\n",
       "                         'xgb__n_estimators': [5, 10, 50]},\n",
       "             scoring='f1')"
      ]
     },
     "execution_count": 47,
     "metadata": {},
     "output_type": "execute_result"
    }
   ],
   "source": [
    "search.fit(X_train, y_train)"
   ]
  },
  {
   "cell_type": "code",
   "execution_count": 48,
   "id": "938f628c",
   "metadata": {
    "scrolled": true
   },
   "outputs": [
    {
     "data": {
      "text/html": [
       "<div>\n",
       "<style scoped>\n",
       "    .dataframe tbody tr th:only-of-type {\n",
       "        vertical-align: middle;\n",
       "    }\n",
       "\n",
       "    .dataframe tbody tr th {\n",
       "        vertical-align: top;\n",
       "    }\n",
       "\n",
       "    .dataframe thead th {\n",
       "        text-align: right;\n",
       "    }\n",
       "</style>\n",
       "<table border=\"1\" class=\"dataframe\">\n",
       "  <thead>\n",
       "    <tr style=\"text-align: right;\">\n",
       "      <th></th>\n",
       "      <th>mean_fit_time</th>\n",
       "      <th>std_fit_time</th>\n",
       "      <th>mean_score_time</th>\n",
       "      <th>std_score_time</th>\n",
       "      <th>param_xgb__gamma</th>\n",
       "      <th>param_xgb__n_estimators</th>\n",
       "      <th>params</th>\n",
       "      <th>split0_test_score</th>\n",
       "      <th>split1_test_score</th>\n",
       "      <th>split2_test_score</th>\n",
       "      <th>mean_test_score</th>\n",
       "      <th>std_test_score</th>\n",
       "      <th>rank_test_score</th>\n",
       "    </tr>\n",
       "  </thead>\n",
       "  <tbody>\n",
       "    <tr>\n",
       "      <th>0</th>\n",
       "      <td>0.027691</td>\n",
       "      <td>0.000471</td>\n",
       "      <td>0.011344</td>\n",
       "      <td>0.000472</td>\n",
       "      <td>0</td>\n",
       "      <td>5</td>\n",
       "      <td>{'xgb__gamma': 0, 'xgb__n_estimators': 5}</td>\n",
       "      <td>0.956044</td>\n",
       "      <td>0.925532</td>\n",
       "      <td>0.961749</td>\n",
       "      <td>0.947775</td>\n",
       "      <td>0.015900</td>\n",
       "      <td>3</td>\n",
       "    </tr>\n",
       "    <tr>\n",
       "      <th>1</th>\n",
       "      <td>0.031696</td>\n",
       "      <td>0.000472</td>\n",
       "      <td>0.011344</td>\n",
       "      <td>0.000944</td>\n",
       "      <td>0</td>\n",
       "      <td>10</td>\n",
       "      <td>{'xgb__gamma': 0, 'xgb__n_estimators': 10}</td>\n",
       "      <td>0.952555</td>\n",
       "      <td>0.943942</td>\n",
       "      <td>0.953069</td>\n",
       "      <td>0.949855</td>\n",
       "      <td>0.004186</td>\n",
       "      <td>2</td>\n",
       "    </tr>\n",
       "    <tr>\n",
       "      <th>2</th>\n",
       "      <td>0.054049</td>\n",
       "      <td>0.001416</td>\n",
       "      <td>0.012011</td>\n",
       "      <td>0.000000</td>\n",
       "      <td>0</td>\n",
       "      <td>50</td>\n",
       "      <td>{'xgb__gamma': 0, 'xgb__n_estimators': 50}</td>\n",
       "      <td>0.947559</td>\n",
       "      <td>0.935484</td>\n",
       "      <td>0.944345</td>\n",
       "      <td>0.942462</td>\n",
       "      <td>0.005106</td>\n",
       "      <td>8</td>\n",
       "    </tr>\n",
       "    <tr>\n",
       "      <th>3</th>\n",
       "      <td>0.030694</td>\n",
       "      <td>0.001701</td>\n",
       "      <td>0.012011</td>\n",
       "      <td>0.000817</td>\n",
       "      <td>0.2</td>\n",
       "      <td>5</td>\n",
       "      <td>{'xgb__gamma': 0.2, 'xgb__n_estimators': 5}</td>\n",
       "      <td>0.957798</td>\n",
       "      <td>0.930481</td>\n",
       "      <td>0.953069</td>\n",
       "      <td>0.947116</td>\n",
       "      <td>0.011920</td>\n",
       "      <td>4</td>\n",
       "    </tr>\n",
       "    <tr>\n",
       "      <th>4</th>\n",
       "      <td>0.031695</td>\n",
       "      <td>0.000472</td>\n",
       "      <td>0.011344</td>\n",
       "      <td>0.000472</td>\n",
       "      <td>0.2</td>\n",
       "      <td>10</td>\n",
       "      <td>{'xgb__gamma': 0.2, 'xgb__n_estimators': 10}</td>\n",
       "      <td>0.957798</td>\n",
       "      <td>0.937163</td>\n",
       "      <td>0.944544</td>\n",
       "      <td>0.946502</td>\n",
       "      <td>0.008537</td>\n",
       "      <td>6</td>\n",
       "    </tr>\n",
       "    <tr>\n",
       "      <th>5</th>\n",
       "      <td>0.056718</td>\n",
       "      <td>0.001249</td>\n",
       "      <td>0.012011</td>\n",
       "      <td>0.000000</td>\n",
       "      <td>0.2</td>\n",
       "      <td>50</td>\n",
       "      <td>{'xgb__gamma': 0.2, 'xgb__n_estimators': 50}</td>\n",
       "      <td>0.943119</td>\n",
       "      <td>0.933810</td>\n",
       "      <td>0.906897</td>\n",
       "      <td>0.927942</td>\n",
       "      <td>0.015359</td>\n",
       "      <td>9</td>\n",
       "    </tr>\n",
       "    <tr>\n",
       "      <th>6</th>\n",
       "      <td>0.028359</td>\n",
       "      <td>0.000472</td>\n",
       "      <td>0.010677</td>\n",
       "      <td>0.000472</td>\n",
       "      <td>0.5</td>\n",
       "      <td>5</td>\n",
       "      <td>{'xgb__gamma': 0.5, 'xgb__n_estimators': 5}</td>\n",
       "      <td>0.957798</td>\n",
       "      <td>0.938849</td>\n",
       "      <td>0.961749</td>\n",
       "      <td>0.952799</td>\n",
       "      <td>0.009995</td>\n",
       "      <td>1</td>\n",
       "    </tr>\n",
       "    <tr>\n",
       "      <th>7</th>\n",
       "      <td>0.034031</td>\n",
       "      <td>0.002162</td>\n",
       "      <td>0.011677</td>\n",
       "      <td>0.000472</td>\n",
       "      <td>0.5</td>\n",
       "      <td>10</td>\n",
       "      <td>{'xgb__gamma': 0.5, 'xgb__n_estimators': 10}</td>\n",
       "      <td>0.953789</td>\n",
       "      <td>0.938849</td>\n",
       "      <td>0.942857</td>\n",
       "      <td>0.945165</td>\n",
       "      <td>0.006314</td>\n",
       "      <td>7</td>\n",
       "    </tr>\n",
       "    <tr>\n",
       "      <th>8</th>\n",
       "      <td>0.058386</td>\n",
       "      <td>0.001701</td>\n",
       "      <td>0.011344</td>\n",
       "      <td>0.000472</td>\n",
       "      <td>0.5</td>\n",
       "      <td>50</td>\n",
       "      <td>{'xgb__gamma': 0.5, 'xgb__n_estimators': 50}</td>\n",
       "      <td>0.952206</td>\n",
       "      <td>0.935484</td>\n",
       "      <td>0.953069</td>\n",
       "      <td>0.946919</td>\n",
       "      <td>0.008094</td>\n",
       "      <td>5</td>\n",
       "    </tr>\n",
       "  </tbody>\n",
       "</table>\n",
       "</div>"
      ],
      "text/plain": [
       "   mean_fit_time  std_fit_time  mean_score_time  std_score_time  \\\n",
       "0       0.027691      0.000471         0.011344        0.000472   \n",
       "1       0.031696      0.000472         0.011344        0.000944   \n",
       "2       0.054049      0.001416         0.012011        0.000000   \n",
       "3       0.030694      0.001701         0.012011        0.000817   \n",
       "4       0.031695      0.000472         0.011344        0.000472   \n",
       "5       0.056718      0.001249         0.012011        0.000000   \n",
       "6       0.028359      0.000472         0.010677        0.000472   \n",
       "7       0.034031      0.002162         0.011677        0.000472   \n",
       "8       0.058386      0.001701         0.011344        0.000472   \n",
       "\n",
       "  param_xgb__gamma param_xgb__n_estimators  \\\n",
       "0                0                       5   \n",
       "1                0                      10   \n",
       "2                0                      50   \n",
       "3              0.2                       5   \n",
       "4              0.2                      10   \n",
       "5              0.2                      50   \n",
       "6              0.5                       5   \n",
       "7              0.5                      10   \n",
       "8              0.5                      50   \n",
       "\n",
       "                                         params  split0_test_score  \\\n",
       "0     {'xgb__gamma': 0, 'xgb__n_estimators': 5}           0.956044   \n",
       "1    {'xgb__gamma': 0, 'xgb__n_estimators': 10}           0.952555   \n",
       "2    {'xgb__gamma': 0, 'xgb__n_estimators': 50}           0.947559   \n",
       "3   {'xgb__gamma': 0.2, 'xgb__n_estimators': 5}           0.957798   \n",
       "4  {'xgb__gamma': 0.2, 'xgb__n_estimators': 10}           0.957798   \n",
       "5  {'xgb__gamma': 0.2, 'xgb__n_estimators': 50}           0.943119   \n",
       "6   {'xgb__gamma': 0.5, 'xgb__n_estimators': 5}           0.957798   \n",
       "7  {'xgb__gamma': 0.5, 'xgb__n_estimators': 10}           0.953789   \n",
       "8  {'xgb__gamma': 0.5, 'xgb__n_estimators': 50}           0.952206   \n",
       "\n",
       "   split1_test_score  split2_test_score  mean_test_score  std_test_score  \\\n",
       "0           0.925532           0.961749         0.947775        0.015900   \n",
       "1           0.943942           0.953069         0.949855        0.004186   \n",
       "2           0.935484           0.944345         0.942462        0.005106   \n",
       "3           0.930481           0.953069         0.947116        0.011920   \n",
       "4           0.937163           0.944544         0.946502        0.008537   \n",
       "5           0.933810           0.906897         0.927942        0.015359   \n",
       "6           0.938849           0.961749         0.952799        0.009995   \n",
       "7           0.938849           0.942857         0.945165        0.006314   \n",
       "8           0.935484           0.953069         0.946919        0.008094   \n",
       "\n",
       "   rank_test_score  \n",
       "0                3  \n",
       "1                2  \n",
       "2                8  \n",
       "3                4  \n",
       "4                6  \n",
       "5                9  \n",
       "6                1  \n",
       "7                7  \n",
       "8                5  "
      ]
     },
     "execution_count": 48,
     "metadata": {},
     "output_type": "execute_result"
    }
   ],
   "source": [
    "pd.DataFrame(search.cv_results_)"
   ]
  },
  {
   "cell_type": "code",
   "execution_count": 49,
   "id": "44f13124",
   "metadata": {
    "scrolled": true
   },
   "outputs": [
    {
     "data": {
      "text/plain": [
       "{'xgb__gamma': 0.5, 'xgb__n_estimators': 5}"
      ]
     },
     "execution_count": 49,
     "metadata": {},
     "output_type": "execute_result"
    }
   ],
   "source": [
    "search.best_params_"
   ]
  },
  {
   "cell_type": "markdown",
   "id": "91855cc3",
   "metadata": {},
   "source": [
    "## Testing on Unseen Data"
   ]
  },
  {
   "cell_type": "code",
   "execution_count": 50,
   "id": "79da906d",
   "metadata": {},
   "outputs": [],
   "source": [
    "y_pred = search.predict(X_test)"
   ]
  },
  {
   "cell_type": "code",
   "execution_count": 51,
   "id": "d34bc1f5",
   "metadata": {},
   "outputs": [
    {
     "data": {
      "text/plain": [
       "0.9630642954856362"
      ]
     },
     "execution_count": 51,
     "metadata": {},
     "output_type": "execute_result"
    }
   ],
   "source": [
    "from sklearn.metrics import f1_score\n",
    "\n",
    "f1_score(y_pred, y_test)"
   ]
  },
  {
   "cell_type": "code",
   "execution_count": 52,
   "id": "cdd7f4b4",
   "metadata": {},
   "outputs": [
    {
     "data": {
      "text/plain": [
       "array([[14621,     5],\n",
       "       [   22,   352]], dtype=int64)"
      ]
     },
     "execution_count": 52,
     "metadata": {},
     "output_type": "execute_result"
    }
   ],
   "source": [
    "from sklearn.metrics import confusion_matrix\n",
    "\n",
    "confusion_matrix(y_pred, y_test)"
   ]
  },
  {
   "cell_type": "markdown",
   "id": "c00cb62d",
   "metadata": {},
   "source": [
    "## Saving Model"
   ]
  },
  {
   "cell_type": "code",
   "execution_count": null,
   "id": "b612f012",
   "metadata": {},
   "outputs": [],
   "source": [
    "import joblib"
   ]
  },
  {
   "cell_type": "code",
   "execution_count": null,
   "id": "acbb2664",
   "metadata": {},
   "outputs": [],
   "source": [
    "joblib.dump(search, '../models/search')"
   ]
  }
 ],
 "metadata": {
  "kernelspec": {
   "display_name": "Python 3 (ipykernel)",
   "language": "python",
   "name": "python3"
  },
  "language_info": {
   "codemirror_mode": {
    "name": "ipython",
    "version": 3
   },
   "file_extension": ".py",
   "mimetype": "text/x-python",
   "name": "python",
   "nbconvert_exporter": "python",
   "pygments_lexer": "ipython3",
   "version": "3.8.5"
  }
 },
 "nbformat": 4,
 "nbformat_minor": 5
}
