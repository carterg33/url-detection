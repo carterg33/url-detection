{
 "cells": [
  {
   "cell_type": "markdown",
   "id": "c4e93070",
   "metadata": {},
   "source": [
    "# Feature Engineering & Collection"
   ]
  },
  {
   "cell_type": "code",
   "execution_count": 9,
   "id": "ee89b0d3",
   "metadata": {},
   "outputs": [],
   "source": [
    "import numpy as np\n",
    "import pandas as pd"
   ]
  },
  {
   "cell_type": "markdown",
   "id": "4ecfca0f",
   "metadata": {},
   "source": [
    "### Taking Sample"
   ]
  },
  {
   "cell_type": "code",
   "execution_count": null,
   "id": "d060bb7c",
   "metadata": {},
   "outputs": [],
   "source": [
    "df = pd.read_csv('../data/raw/raw_webpages.csv')"
   ]
  },
  {
   "cell_type": "code",
   "execution_count": null,
   "id": "d2fe730c",
   "metadata": {},
   "outputs": [],
   "source": [
    "sample_df = df.sample(50000, random_state = random_state).reset_index(drop = True)\n",
    "sample_df['label'] = sample_df['label'].replace({'good' : 0, 'bad' : 1})\n",
    "sample_df = sample_df[['url', 'label']]"
   ]
  },
  {
   "cell_type": "code",
   "execution_count": null,
   "id": "7239179b",
   "metadata": {},
   "outputs": [],
   "source": [
    "sample_df.to_csv('data/interim/sample_data.csv', index = False)"
   ]
  },
  {
   "cell_type": "markdown",
   "id": "9a34c03b",
   "metadata": {},
   "source": [
    "### Feature Collector & Generator"
   ]
  },
  {
   "cell_type": "code",
   "execution_count": 13,
   "id": "38d165ec",
   "metadata": {},
   "outputs": [],
   "source": [
    "df = pd.read_csv('../data/interim/sample_data.csv')"
   ]
  },
  {
   "cell_type": "code",
   "execution_count": 14,
   "id": "e895aef9",
   "metadata": {},
   "outputs": [
    {
     "data": {
      "text/html": [
       "<div>\n",
       "<style scoped>\n",
       "    .dataframe tbody tr th:only-of-type {\n",
       "        vertical-align: middle;\n",
       "    }\n",
       "\n",
       "    .dataframe tbody tr th {\n",
       "        vertical-align: top;\n",
       "    }\n",
       "\n",
       "    .dataframe thead th {\n",
       "        text-align: right;\n",
       "    }\n",
       "</style>\n",
       "<table border=\"1\" class=\"dataframe\">\n",
       "  <thead>\n",
       "    <tr style=\"text-align: right;\">\n",
       "      <th></th>\n",
       "      <th>url</th>\n",
       "      <th>label</th>\n",
       "    </tr>\n",
       "  </thead>\n",
       "  <tbody>\n",
       "    <tr>\n",
       "      <th>0</th>\n",
       "      <td>http://www.physics.smu.edu/web/</td>\n",
       "      <td>0</td>\n",
       "    </tr>\n",
       "    <tr>\n",
       "      <th>1</th>\n",
       "      <td>http://www.gershlaw.com</td>\n",
       "      <td>0</td>\n",
       "    </tr>\n",
       "    <tr>\n",
       "      <th>2</th>\n",
       "      <td>http://www.defenselink.mil/mtom/</td>\n",
       "      <td>0</td>\n",
       "    </tr>\n",
       "    <tr>\n",
       "      <th>3</th>\n",
       "      <td>http://www.superetrader.co.uk/</td>\n",
       "      <td>0</td>\n",
       "    </tr>\n",
       "    <tr>\n",
       "      <th>4</th>\n",
       "      <td>http://salonequipmentintl.com/</td>\n",
       "      <td>0</td>\n",
       "    </tr>\n",
       "    <tr>\n",
       "      <th>...</th>\n",
       "      <td>...</td>\n",
       "      <td>...</td>\n",
       "    </tr>\n",
       "    <tr>\n",
       "      <th>49995</th>\n",
       "      <td>http://www.mysteryofthegospel.com</td>\n",
       "      <td>0</td>\n",
       "    </tr>\n",
       "    <tr>\n",
       "      <th>49996</th>\n",
       "      <td>http://www.geocities.com/beauty_beast_land/</td>\n",
       "      <td>0</td>\n",
       "    </tr>\n",
       "    <tr>\n",
       "      <th>49997</th>\n",
       "      <td>http://www.crkayakadventures.com/</td>\n",
       "      <td>0</td>\n",
       "    </tr>\n",
       "    <tr>\n",
       "      <th>49998</th>\n",
       "      <td>http://www.bigdancelist.com/</td>\n",
       "      <td>0</td>\n",
       "    </tr>\n",
       "    <tr>\n",
       "      <th>49999</th>\n",
       "      <td>http://hem.passagen.se/choylin/jag/</td>\n",
       "      <td>0</td>\n",
       "    </tr>\n",
       "  </tbody>\n",
       "</table>\n",
       "<p>50000 rows × 2 columns</p>\n",
       "</div>"
      ],
      "text/plain": [
       "                                               url  label\n",
       "0                  http://www.physics.smu.edu/web/      0\n",
       "1                          http://www.gershlaw.com      0\n",
       "2                 http://www.defenselink.mil/mtom/      0\n",
       "3                   http://www.superetrader.co.uk/      0\n",
       "4                   http://salonequipmentintl.com/      0\n",
       "...                                            ...    ...\n",
       "49995            http://www.mysteryofthegospel.com      0\n",
       "49996  http://www.geocities.com/beauty_beast_land/      0\n",
       "49997            http://www.crkayakadventures.com/      0\n",
       "49998                 http://www.bigdancelist.com/      0\n",
       "49999          http://hem.passagen.se/choylin/jag/      0\n",
       "\n",
       "[50000 rows x 2 columns]"
      ]
     },
     "execution_count": 14,
     "metadata": {},
     "output_type": "execute_result"
    }
   ],
   "source": [
    "df"
   ]
  },
  {
   "cell_type": "code",
   "execution_count": 15,
   "id": "b7b0769f",
   "metadata": {},
   "outputs": [],
   "source": [
    "from math import log\n",
    "import re\n",
    "from urllib.parse import urlparse\n",
    "from socket import gethostbyname\n",
    "from pyquery import PyQuery\n",
    "from whois import whois\n",
    "import geoip2.webservice\n",
    "import requests\n",
    "from bs4 import BeautifulSoup\n",
    "\n",
    "class URLFeatureGenerator:\n",
    "    def __init__(self, url):\n",
    "        self.url = url\n",
    "        self.urlparse = urlparse(self.url)\n",
    "        self.host = self.__get_ip()\n",
    "        self.geoip = self.__get_geoip()\n",
    "        self.content = self.__get_content()\n",
    "        self.whois_dict = self.__get_whois()\n",
    "\n",
    "\n",
    "    def __get_entropy(self, text):\n",
    "        text = text.lower()\n",
    "        probs = [text.count(c) / len(text) for c in set(text)]\n",
    "        entropy = -sum([p * log(p) / log(2.0) for p in probs])\n",
    "        return entropy\n",
    "\n",
    "    def __get_ip(self):\n",
    "        try:\n",
    "            ip = self.urlparse.netloc if self.url_host_is_ip() else gethostbyname(self.urlparse.netloc)\n",
    "            return ip\n",
    "        except:\n",
    "            return None\n",
    "        \n",
    "    def __get_geoip(self):\n",
    "        try:\n",
    "            with geoip2.webservice.Client(658304, 'w0i2b6H9dNXZMkq7', host = \"geolite.info\") as client:\n",
    "                response = client.city(self.host)\n",
    "                return response\n",
    "        except:\n",
    "            return None\n",
    "    \n",
    "    def __get_content(self):\n",
    "        r = requests.get(self.url)\n",
    "        content = BeautifulSoup(r.content, 'html.parser')\n",
    "        return content\n",
    "\n",
    "    def __get_whois(self):\n",
    "        try:\n",
    "            whois_dict = whois(self.host)\n",
    "            return whois_dict\n",
    "        except:\n",
    "            return {}\n",
    "    \n",
    "    # extract lexical features\n",
    "    def url_scheme(self):\n",
    "        if self.urlparse.scheme == 'https':\n",
    "            return True\n",
    "        else:\n",
    "            return False\n",
    "        return self.urlparse.scheme\n",
    "\n",
    "    def url_length(self):\n",
    "        return len(self.url)\n",
    "\n",
    "    def url_path_length(self):\n",
    "        return len(self.urlparse.path)\n",
    "\n",
    "    def url_host_length(self):\n",
    "        return len(self.urlparse.netloc)\n",
    "\n",
    "    def url_host_is_ip(self):\n",
    "        host = self.urlparse.netloc\n",
    "        pattern = re.compile(\"^\\d{1,3}\\.\\d{1,3}\\.\\d{1,3}\\.\\d{1,3}$\")\n",
    "        match = pattern.match(host)\n",
    "        return match is not None\n",
    "\n",
    "    def url_has_port_in_string(self):\n",
    "        has_port = self.urlparse.netloc.split(':')\n",
    "        return len(has_port) > 1 and has_port[-1].isdigit()\n",
    "\n",
    "    def number_of_digits(self):\n",
    "        digits = [i for i in self.url if i.isdigit()]\n",
    "        return len(digits)\n",
    "\n",
    "    def number_of_parameters(self):\n",
    "        params = self.urlparse.query\n",
    "        return 0 if params == '' else len(params.split('&'))\n",
    "\n",
    "    def number_of_fragments(self):\n",
    "        frags = self.urlparse.fragment\n",
    "        return len(frags.split('#')) - 1 if frags == '' else 0\n",
    "\n",
    "    def is_encoded(self):\n",
    "        return '%' in self.url.lower()\n",
    "\n",
    "    def num_encoded_char(self):\n",
    "        encs = [i for i in self.url if i == '%']\n",
    "        return len(encs)\n",
    "\n",
    "    def url_string_entropy(self):\n",
    "        return self.__get_entropy(self.url)\n",
    "\n",
    "    def number_of_subdirectories(self):\n",
    "        d = self.urlparse.path.split('/')\n",
    "        return len(d)\n",
    "\n",
    "    def number_of_periods(self):\n",
    "        periods = [i for i in self.url if i == '.']\n",
    "        return len(periods)\n",
    "\n",
    "    def get_tld(self):\n",
    "        return self.urlparse.netloc.split('.')[-1].split(':')[0]\n",
    "    \n",
    "    # host features\n",
    "    def geo_loc(self):\n",
    "        try:\n",
    "            return self.geoip.country.name\n",
    "        except:\n",
    "            return None\n",
    "\n",
    "    def whois_complete(self):\n",
    "        if self.whois_dict.registrar:\n",
    "            return True\n",
    "        else:\n",
    "            return False\n",
    "    \n",
    "    #content features\n",
    "    def get_js_len(self):\n",
    "        js=re.findall(r'<script>(.+)<\\script>', str(self.content))\n",
    "        complete_js=''.join(js)\n",
    "        js_len = len(complete_js)\n",
    "        return js_len\n",
    "\n",
    "    def create_features(self):\n",
    "        url_dict = {'url' : self.url}\n",
    "        url_dict['https'] = self.url_scheme()\n",
    "        url_dict['url_length'] = self.url_length()\n",
    "        url_dict['url_path_length'] = self.url_path_length()\n",
    "        url_dict['url_host_length'] = self.url_host_length()\n",
    "        url_dict['url_host_is_ip'] = self.url_host_is_ip()\n",
    "        url_dict['url_has_port_in_string'] = self.url_has_port_in_string()\n",
    "        url_dict['number_of_digits'] = self.number_of_digits()\n",
    "        url_dict['number_of_parameters'] = self.number_of_parameters()\n",
    "        url_dict['number_of_fragments'] = self.number_of_fragments()\n",
    "        url_dict['is_encoded'] = self.is_encoded()\n",
    "        url_dict['num_encoded_char'] = self.num_encoded_char()\n",
    "        url_dict['url_string_entropy'] = self.url_string_entropy()\n",
    "        url_dict['number_of_subdirectories'] = self.number_of_subdirectories()\n",
    "        url_dict['number_of_periods'] = self.number_of_periods()\n",
    "        url_dict['tld'] = self.get_tld()\n",
    "        url_dict['geo_loc'] = self.geo_loc()\n",
    "        url_dict['js_len'] = self.get_js_len()\n",
    "        url_dict['who_is'] = self.whois_complete()\n",
    "        return url_dict"
   ]
  },
  {
   "cell_type": "markdown",
   "id": "959d7cd6",
   "metadata": {},
   "source": [
    "**Example:**"
   ]
  },
  {
   "cell_type": "code",
   "execution_count": 16,
   "id": "ee2e5f13",
   "metadata": {},
   "outputs": [
    {
     "name": "stdout",
     "output_type": "stream",
     "text": [
      "URL Length: 31\n",
      "Number of Digits:0\n",
      "URL String Entropy: 3.80871969734407\n"
     ]
    }
   ],
   "source": [
    "test_url = URLFeatureGenerator('http://www.physics.smu.edu/web/')\n",
    "print('URL Length: ' + str(test_url.url_length()))\n",
    "print('Number of Digits:' + str(test_url.number_of_digits()))\n",
    "print('URL String Entropy: ' + str(test_url.url_string_entropy()))"
   ]
  },
  {
   "cell_type": "code",
   "execution_count": 17,
   "id": "b363c762",
   "metadata": {
    "scrolled": true
   },
   "outputs": [
    {
     "data": {
      "text/plain": [
       "{'url': 'http://www.physics.smu.edu/web/',\n",
       " 'https': False,\n",
       " 'url_length': 31,\n",
       " 'url_path_length': 5,\n",
       " 'url_host_length': 19,\n",
       " 'url_host_is_ip': False,\n",
       " 'url_has_port_in_string': False,\n",
       " 'number_of_digits': 0,\n",
       " 'number_of_parameters': 0,\n",
       " 'number_of_fragments': 0,\n",
       " 'is_encoded': False,\n",
       " 'num_encoded_char': 0,\n",
       " 'url_string_entropy': 3.80871969734407,\n",
       " 'number_of_subdirectories': 3,\n",
       " 'number_of_periods': 3,\n",
       " 'tld': 'edu',\n",
       " 'geo_loc': 'United States',\n",
       " 'js_len': 0,\n",
       " 'who_is': False}"
      ]
     },
     "execution_count": 17,
     "metadata": {},
     "output_type": "execute_result"
    }
   ],
   "source": [
    "test_url.create_features()"
   ]
  },
  {
   "cell_type": "markdown",
   "id": "b4aa6ba6",
   "metadata": {},
   "source": [
    "### Creating Feature Set"
   ]
  },
  {
   "cell_type": "code",
   "execution_count": null,
   "id": "0623a53a",
   "metadata": {},
   "outputs": [],
   "source": [
    "feature_list = []\n",
    "\n",
    "# iterate through the urls while generating features\n",
    "for url, label in zip(df['url'], df['label']):\n",
    "    features = URLFeatureGenerator(url).create_features()\n",
    "    features['label'] = label\n",
    "    feature_list.append(features)"
   ]
  },
  {
   "cell_type": "code",
   "execution_count": null,
   "id": "5bd54c60",
   "metadata": {},
   "outputs": [],
   "source": [
    "# create dataframe from generated features\n",
    "feature_df = pd.DataFrame.from_dict(feature_list)\n",
    "feature_df.head()"
   ]
  },
  {
   "cell_type": "code",
   "execution_count": null,
   "id": "59cbd28f",
   "metadata": {},
   "outputs": [],
   "source": [
    "feature_df.to_csv('data/processed/features.csv', index = False)"
   ]
  }
 ],
 "metadata": {
  "kernelspec": {
   "display_name": "Python 3 (ipykernel)",
   "language": "python",
   "name": "python3"
  },
  "language_info": {
   "codemirror_mode": {
    "name": "ipython",
    "version": 3
   },
   "file_extension": ".py",
   "mimetype": "text/x-python",
   "name": "python",
   "nbconvert_exporter": "python",
   "pygments_lexer": "ipython3",
   "version": "3.8.5"
  }
 },
 "nbformat": 4,
 "nbformat_minor": 5
}
